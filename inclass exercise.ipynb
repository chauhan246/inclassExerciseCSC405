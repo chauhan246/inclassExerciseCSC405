{
 "cells": [
  {
   "cell_type": "markdown",
   "id": "2302861c-ac47-4140-8f34-ea95a97a13ad",
   "metadata": {},
   "source": [
    "This is an in class exersice"
   ]
  },
  {
   "cell_type": "code",
   "execution_count": 3,
   "id": "b85d6adb-6022-4901-8ad5-70030ca2c87e",
   "metadata": {},
   "outputs": [
    {
     "name": "stdout",
     "output_type": "stream",
     "text": [
      "hello\n"
     ]
    }
   ],
   "source": [
    "print(\"hello\")"
   ]
  },
  {
   "cell_type": "raw",
   "id": "708cf8c0-4cd5-4059-8adc-0ad673ca1316",
   "metadata": {},
   "source": [
    "## The first in class exercise"
   ]
  },
  {
   "cell_type": "code",
   "execution_count": 1,
   "id": "e0926cee-b354-43ad-b4de-aaf6909cd5c0",
   "metadata": {},
   "outputs": [
    {
     "data": {
      "text/plain": [
       "2"
      ]
     },
     "execution_count": 1,
     "metadata": {},
     "output_type": "execute_result"
    }
   ],
   "source": [
    "1+1"
   ]
  },
  {
   "cell_type": "code",
   "execution_count": null,
   "id": "89c535cb-3e88-4bc6-9f81-34a4e7da6412",
   "metadata": {},
   "outputs": [],
   "source": []
  }
 ],
 "metadata": {
  "kernelspec": {
   "display_name": "Python 3 (ipykernel)",
   "language": "python",
   "name": "python3"
  },
  "language_info": {
   "codemirror_mode": {
    "name": "ipython",
    "version": 3
   },
   "file_extension": ".py",
   "mimetype": "text/x-python",
   "name": "python",
   "nbconvert_exporter": "python",
   "pygments_lexer": "ipython3",
   "version": "3.12.4"
  }
 },
 "nbformat": 4,
 "nbformat_minor": 5
}
